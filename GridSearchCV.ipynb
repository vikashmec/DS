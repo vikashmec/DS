{
 "cells": [
  {
   "cell_type": "code",
   "execution_count": 1,
   "id": "dbad1f96",
   "metadata": {},
   "outputs": [],
   "source": [
    "import warnings\n",
    "warnings.filterwarnings(action='ignore')"
   ]
  },
  {
   "cell_type": "code",
   "execution_count": 2,
   "id": "987dcc2e",
   "metadata": {},
   "outputs": [],
   "source": [
    "import numpy as np\n",
    "import pandas as pd\n",
    "import matplotlib.pyplot as plt\n",
    "import seaborn as sns\n",
    "\n",
    "from sklearn.preprocessing import StandardScaler, MinMaxScaler, LabelEncoder\n",
    "\n",
    "from sklearn.model_selection import train_test_split, GridSearchCV, cross_val_score\n",
    "\n",
    "from sklearn.linear_model import LogisticRegression\n",
    "from sklearn.neighbors import KNeighborsClassifier\n",
    "from sklearn.tree import DecisionTreeClassifier\n",
    "from sklearn.ensemble import RandomForestClassifier, BaggingClassifier, VotingClassifier\n",
    "\n",
    "from sklearn.metrics import accuracy_score, confusion_matrix, classification_report"
   ]
  },
  {
   "cell_type": "code",
   "execution_count": 3,
   "id": "f1edf210",
   "metadata": {},
   "outputs": [],
   "source": [
    "heart = pd.read_csv('heart.csv')"
   ]
  },
  {
   "cell_type": "code",
   "execution_count": 4,
   "id": "6ced1e36",
   "metadata": {},
   "outputs": [
    {
     "data": {
      "text/html": [
       "<div>\n",
       "<style scoped>\n",
       "    .dataframe tbody tr th:only-of-type {\n",
       "        vertical-align: middle;\n",
       "    }\n",
       "\n",
       "    .dataframe tbody tr th {\n",
       "        vertical-align: top;\n",
       "    }\n",
       "\n",
       "    .dataframe thead th {\n",
       "        text-align: right;\n",
       "    }\n",
       "</style>\n",
       "<table border=\"1\" class=\"dataframe\">\n",
       "  <thead>\n",
       "    <tr style=\"text-align: right;\">\n",
       "      <th></th>\n",
       "      <th>age</th>\n",
       "      <th>sex</th>\n",
       "      <th>cp</th>\n",
       "      <th>trestbps</th>\n",
       "      <th>chol</th>\n",
       "      <th>fbs</th>\n",
       "      <th>restecg</th>\n",
       "      <th>thalach</th>\n",
       "      <th>exang</th>\n",
       "      <th>oldpeak</th>\n",
       "      <th>slope</th>\n",
       "      <th>ca</th>\n",
       "      <th>thal</th>\n",
       "      <th>target</th>\n",
       "    </tr>\n",
       "  </thead>\n",
       "  <tbody>\n",
       "    <tr>\n",
       "      <th>0</th>\n",
       "      <td>63</td>\n",
       "      <td>1</td>\n",
       "      <td>3</td>\n",
       "      <td>145</td>\n",
       "      <td>233</td>\n",
       "      <td>1</td>\n",
       "      <td>0</td>\n",
       "      <td>150</td>\n",
       "      <td>0</td>\n",
       "      <td>2.3</td>\n",
       "      <td>0</td>\n",
       "      <td>0</td>\n",
       "      <td>1</td>\n",
       "      <td>1</td>\n",
       "    </tr>\n",
       "    <tr>\n",
       "      <th>1</th>\n",
       "      <td>37</td>\n",
       "      <td>1</td>\n",
       "      <td>2</td>\n",
       "      <td>130</td>\n",
       "      <td>250</td>\n",
       "      <td>0</td>\n",
       "      <td>1</td>\n",
       "      <td>187</td>\n",
       "      <td>0</td>\n",
       "      <td>3.5</td>\n",
       "      <td>0</td>\n",
       "      <td>0</td>\n",
       "      <td>2</td>\n",
       "      <td>1</td>\n",
       "    </tr>\n",
       "    <tr>\n",
       "      <th>2</th>\n",
       "      <td>41</td>\n",
       "      <td>0</td>\n",
       "      <td>1</td>\n",
       "      <td>130</td>\n",
       "      <td>204</td>\n",
       "      <td>0</td>\n",
       "      <td>0</td>\n",
       "      <td>172</td>\n",
       "      <td>0</td>\n",
       "      <td>1.4</td>\n",
       "      <td>2</td>\n",
       "      <td>0</td>\n",
       "      <td>2</td>\n",
       "      <td>1</td>\n",
       "    </tr>\n",
       "    <tr>\n",
       "      <th>3</th>\n",
       "      <td>56</td>\n",
       "      <td>1</td>\n",
       "      <td>1</td>\n",
       "      <td>120</td>\n",
       "      <td>236</td>\n",
       "      <td>0</td>\n",
       "      <td>1</td>\n",
       "      <td>178</td>\n",
       "      <td>0</td>\n",
       "      <td>0.8</td>\n",
       "      <td>2</td>\n",
       "      <td>0</td>\n",
       "      <td>2</td>\n",
       "      <td>1</td>\n",
       "    </tr>\n",
       "    <tr>\n",
       "      <th>4</th>\n",
       "      <td>57</td>\n",
       "      <td>0</td>\n",
       "      <td>0</td>\n",
       "      <td>120</td>\n",
       "      <td>354</td>\n",
       "      <td>0</td>\n",
       "      <td>1</td>\n",
       "      <td>163</td>\n",
       "      <td>1</td>\n",
       "      <td>0.6</td>\n",
       "      <td>2</td>\n",
       "      <td>0</td>\n",
       "      <td>2</td>\n",
       "      <td>1</td>\n",
       "    </tr>\n",
       "  </tbody>\n",
       "</table>\n",
       "</div>"
      ],
      "text/plain": [
       "   age  sex  cp  trestbps  chol  fbs  restecg  thalach  exang  oldpeak  slope  \\\n",
       "0   63    1   3       145   233    1        0      150      0      2.3      0   \n",
       "1   37    1   2       130   250    0        1      187      0      3.5      0   \n",
       "2   41    0   1       130   204    0        0      172      0      1.4      2   \n",
       "3   56    1   1       120   236    0        1      178      0      0.8      2   \n",
       "4   57    0   0       120   354    0        1      163      1      0.6      2   \n",
       "\n",
       "   ca  thal  target  \n",
       "0   0     1       1  \n",
       "1   0     2       1  \n",
       "2   0     2       1  \n",
       "3   0     2       1  \n",
       "4   0     2       1  "
      ]
     },
     "execution_count": 4,
     "metadata": {},
     "output_type": "execute_result"
    }
   ],
   "source": [
    "heart.head()"
   ]
  },
  {
   "cell_type": "code",
   "execution_count": 5,
   "id": "4cd32ff2",
   "metadata": {},
   "outputs": [
    {
     "name": "stdout",
     "output_type": "stream",
     "text": [
      "<class 'pandas.core.frame.DataFrame'>\n",
      "RangeIndex: 303 entries, 0 to 302\n",
      "Data columns (total 14 columns):\n",
      " #   Column    Non-Null Count  Dtype  \n",
      "---  ------    --------------  -----  \n",
      " 0   age       303 non-null    int64  \n",
      " 1   sex       303 non-null    int64  \n",
      " 2   cp        303 non-null    int64  \n",
      " 3   trestbps  303 non-null    int64  \n",
      " 4   chol      303 non-null    int64  \n",
      " 5   fbs       303 non-null    int64  \n",
      " 6   restecg   303 non-null    int64  \n",
      " 7   thalach   303 non-null    int64  \n",
      " 8   exang     303 non-null    int64  \n",
      " 9   oldpeak   303 non-null    float64\n",
      " 10  slope     303 non-null    int64  \n",
      " 11  ca        303 non-null    int64  \n",
      " 12  thal      303 non-null    int64  \n",
      " 13  target    303 non-null    int64  \n",
      "dtypes: float64(1), int64(13)\n",
      "memory usage: 33.3 KB\n"
     ]
    }
   ],
   "source": [
    "heart.info()"
   ]
  },
  {
   "cell_type": "code",
   "execution_count": 7,
   "id": "f14007a1",
   "metadata": {},
   "outputs": [
    {
     "data": {
      "text/plain": [
       "<AxesSubplot:xlabel='age'>"
      ]
     },
     "execution_count": 7,
     "metadata": {},
     "output_type": "execute_result"
    },
    {
     "data": {
      "image/png": "[encoded data removed]",
      "text/plain": [
       "<Figure size 864x288 with 1 Axes>"
      ]
     },
     "metadata": {
      "needs_background": "light"
     },
     "output_type": "display_data"
    }
   ],
   "source": [
    "pd.crosstab(heart.age, heart.target).plot.bar(figsize=(12,4))"
   ]
  },
  {
   "cell_type": "code",
   "execution_count": 8,
   "id": "bf5fa5cd",
   "metadata": {},
   "outputs": [
    {
     "data": {
      "text/plain": [
       "<AxesSubplot:xlabel='target', ylabel='count'>"
      ]
     },
     "execution_count": 8,
     "metadata": {},
     "output_type": "execute_result"
    },
    {
     "data": {
      "image/png": "[encoded data removed]",
      "text/plain": [
       "<Figure size 432x288 with 1 Axes>"
      ]
     },
     "metadata": {
      "needs_background": "light"
     },
     "output_type": "display_data"
    }
   ],
   "source": [
    "sns.countplot(heart.target)"
   ]
  },
  {
   "cell_type": "code",
   "execution_count": 9,
   "id": "cb042d38",
   "metadata": {},
   "outputs": [],
   "source": [
    "X = heart.drop('target', axis=1)\n",
    "y = heart[['target']]"
   ]
  },
  {
   "cell_type": "code",
   "execution_count": 10,
   "id": "c71e4df4",
   "metadata": {},
   "outputs": [
    {
     "data": {
      "text/plain": [
       "((303, 13), (303, 1))"
      ]
     },
     "execution_count": 10,
     "metadata": {},
     "output_type": "execute_result"
    }
   ],
   "source": [
    "X.shape, y.shape"
   ]
  },
  {
   "cell_type": "code",
   "execution_count": 100,
   "id": "1f57af22",
   "metadata": {},
   "outputs": [],
   "source": [
    "train_X, test_X, train_y, test_y = train_test_split(X, y, test_size=0.05, random_state=4)"
   ]
  },
  {
   "cell_type": "code",
   "execution_count": 101,
   "id": "cf894ee8",
   "metadata": {},
   "outputs": [
    {
     "data": {
      "text/plain": [
       "((287, 13), (287, 1), (16, 13), (16, 1))"
      ]
     },
     "execution_count": 101,
     "metadata": {},
     "output_type": "execute_result"
    }
   ],
   "source": [
    "train_X.shape, train_y.shape, test_X.shape, test_y.shape"
   ]
  },
  {
   "cell_type": "code",
   "execution_count": 58,
   "id": "06ef0774",
   "metadata": {},
   "outputs": [],
   "source": [
    "def check_model(model, train_X, test_X, train_y, test_y, fit=True):\n",
    "    \n",
    "    if fit:\n",
    "        model.fit(train_X, train_y)\n",
    "    \n",
    "    print('Training Accuracy: {}'.format(model.score(train_X, train_y)))\n",
    "    print('Testung Accuracy: {}'.format(model.score(test_X, test_y)))\n",
    "    print('*'*50)\n",
    "    print('Train Confusion Matrix: \\n{}'.format(confusion_matrix(train_y, model.predict(train_X))))\n",
    "    print('Test Confusion Matrix: \\n{}'.format(confusion_matrix(test_y, model.predict(test_X))))\n",
    "    print('*'*50)\n",
    "    print('Train Classification Report \\n{}'.format(classification_report(train_y, model.predict(train_X))))\n",
    "    print('Test Classification Report: \\n{}'.format(classification_report(test_y, model.predict(test_X))))"
   ]
  },
  {
   "cell_type": "code",
   "execution_count": 59,
   "id": "2553baf5",
   "metadata": {},
   "outputs": [],
   "source": [
    "dt_clf = DecisionTreeClassifier()"
   ]
  },
  {
   "cell_type": "code",
   "execution_count": 60,
   "id": "479d3736",
   "metadata": {},
   "outputs": [
    {
     "name": "stdout",
     "output_type": "stream",
     "text": [
      "Training Accuracy: 1.0\n",
      "Testung Accuracy: 0.7032967032967034\n",
      "**************************************************\n",
      "Train Confusion Matrix: \n",
      "[[100   0]\n",
      " [  0 112]]\n",
      "Test Confusion Matrix: \n",
      "[[25 13]\n",
      " [14 39]]\n",
      "**************************************************\n",
      "Train Classification Report \n",
      "              precision    recall  f1-score   support\n",
      "\n",
      "           0       1.00      1.00      1.00       100\n",
      "           1       1.00      1.00      1.00       112\n",
      "\n",
      "    accuracy                           1.00       212\n",
      "   macro avg       1.00      1.00      1.00       212\n",
      "weighted avg       1.00      1.00      1.00       212\n",
      "\n",
      "Test Classification Report: \n",
      "              precision    recall  f1-score   support\n",
      "\n",
      "           0       0.64      0.66      0.65        38\n",
      "           1       0.75      0.74      0.74        53\n",
      "\n",
      "    accuracy                           0.70        91\n",
      "   macro avg       0.70      0.70      0.70        91\n",
      "weighted avg       0.70      0.70      0.70        91\n",
      "\n"
     ]
    }
   ],
   "source": [
    "check_model(dt_clf, train_X, test_X, train_y, test_y)"
   ]
  },
  {
   "cell_type": "code",
   "execution_count": 61,
   "id": "f4428004",
   "metadata": {},
   "outputs": [
    {
     "name": "stdout",
     "output_type": "stream",
     "text": [
      "Fitting 3 folds for each of 80 candidates, totalling 240 fits\n"
     ]
    },
    {
     "data": {
      "text/plain": [
       "GridSearchCV(cv=3, estimator=DecisionTreeClassifier(), n_jobs=4,\n",
       "             param_grid={'max_depth': [5, 10, 15, None],\n",
       "                         'min_samples_leaf': [3, 5, 7, 10],\n",
       "                         'min_samples_split': [5, 7, 10, 13, 15]},\n",
       "             return_train_score=True, verbose=2)"
      ]
     },
     "execution_count": 61,
     "metadata": {},
     "output_type": "execute_result"
    }
   ],
   "source": [
    "param_grid = {\n",
    "    'max_depth': [5, 10, 15, None],\n",
    "    'min_samples_split': [5, 7, 10, 13, 15],\n",
    "    'min_samples_leaf': [3, 5, 7, 10]\n",
    "}\n",
    "\n",
    "gridCV = GridSearchCV(dt_clf, param_grid=param_grid, cv=3, verbose=2, n_jobs=4, return_train_score=True)\n",
    "\n",
    "gridCV.fit(train_X, train_y)"
   ]
  },
  {
   "cell_type": "code",
   "execution_count": 62,
   "id": "d699f512",
   "metadata": {},
   "outputs": [
    {
     "data": {
      "text/plain": [
       "{'max_depth': 5, 'min_samples_leaf': 5, 'min_samples_split': 7}"
      ]
     },
     "execution_count": 62,
     "metadata": {},
     "output_type": "execute_result"
    }
   ],
   "source": [
    "gridCV.best_params_"
   ]
  },
  {
   "cell_type": "code",
   "execution_count": 63,
   "id": "8c5c5411",
   "metadata": {},
   "outputs": [
    {
     "data": {
      "text/plain": [
       "0.8443326626425218"
      ]
     },
     "execution_count": 63,
     "metadata": {},
     "output_type": "execute_result"
    }
   ],
   "source": [
    "gridCV.best_score_"
   ]
  },
  {
   "cell_type": "code",
   "execution_count": 64,
   "id": "36ff2d93",
   "metadata": {},
   "outputs": [],
   "source": [
    "cv_res = pd.DataFrame(gridCV.cv_results_['params'])\n",
    "cv_res['split0_test_score'] = gridCV.cv_results_['split0_test_score']\n",
    "cv_res['split1_test_score'] = gridCV.cv_results_['split1_test_score']\n",
    "cv_res['split2_test_score'] = gridCV.cv_results_['split2_test_score']\n",
    "cv_res['split0_train_score'] = gridCV.cv_results_['split0_train_score']\n",
    "cv_res['split1_train_score'] = gridCV.cv_results_['split1_train_score']\n",
    "cv_res['split2_train_score'] = gridCV.cv_results_['split2_train_score']\n"
   ]
  },
  {
   "cell_type": "code",
   "execution_count": 65,
   "id": "6ef254a5",
   "metadata": {},
   "outputs": [
    {
     "data": {
      "text/html": [
       "<div>\n",
       "<style scoped>\n",
       "    .dataframe tbody tr th:only-of-type {\n",
       "        vertical-align: middle;\n",
       "    }\n",
       "\n",
       "    .dataframe tbody tr th {\n",
       "        vertical-align: top;\n",
       "    }\n",
       "\n",
       "    .dataframe thead th {\n",
       "        text-align: right;\n",
       "    }\n",
       "</style>\n",
       "<table border=\"1\" class=\"dataframe\">\n",
       "  <thead>\n",
       "    <tr style=\"text-align: right;\">\n",
       "      <th></th>\n",
       "      <th>max_depth</th>\n",
       "      <th>min_samples_leaf</th>\n",
       "      <th>min_samples_split</th>\n",
       "      <th>split0_test_score</th>\n",
       "      <th>split1_test_score</th>\n",
       "      <th>split2_test_score</th>\n",
       "      <th>split0_train_score</th>\n",
       "      <th>split1_train_score</th>\n",
       "      <th>split2_train_score</th>\n",
       "    </tr>\n",
       "  </thead>\n",
       "  <tbody>\n",
       "    <tr>\n",
       "      <th>0</th>\n",
       "      <td>5.0</td>\n",
       "      <td>3</td>\n",
       "      <td>5</td>\n",
       "      <td>0.774648</td>\n",
       "      <td>0.816901</td>\n",
       "      <td>0.857143</td>\n",
       "      <td>0.936170</td>\n",
       "      <td>0.929078</td>\n",
       "      <td>0.880282</td>\n",
       "    </tr>\n",
       "    <tr>\n",
       "      <th>1</th>\n",
       "      <td>5.0</td>\n",
       "      <td>3</td>\n",
       "      <td>7</td>\n",
       "      <td>0.774648</td>\n",
       "      <td>0.816901</td>\n",
       "      <td>0.857143</td>\n",
       "      <td>0.914894</td>\n",
       "      <td>0.929078</td>\n",
       "      <td>0.880282</td>\n",
       "    </tr>\n",
       "    <tr>\n",
       "      <th>2</th>\n",
       "      <td>5.0</td>\n",
       "      <td>3</td>\n",
       "      <td>10</td>\n",
       "      <td>0.802817</td>\n",
       "      <td>0.830986</td>\n",
       "      <td>0.857143</td>\n",
       "      <td>0.907801</td>\n",
       "      <td>0.929078</td>\n",
       "      <td>0.880282</td>\n",
       "    </tr>\n",
       "    <tr>\n",
       "      <th>3</th>\n",
       "      <td>5.0</td>\n",
       "      <td>3</td>\n",
       "      <td>13</td>\n",
       "      <td>0.802817</td>\n",
       "      <td>0.774648</td>\n",
       "      <td>0.857143</td>\n",
       "      <td>0.907801</td>\n",
       "      <td>0.907801</td>\n",
       "      <td>0.880282</td>\n",
       "    </tr>\n",
       "    <tr>\n",
       "      <th>4</th>\n",
       "      <td>5.0</td>\n",
       "      <td>3</td>\n",
       "      <td>15</td>\n",
       "      <td>0.760563</td>\n",
       "      <td>0.774648</td>\n",
       "      <td>0.828571</td>\n",
       "      <td>0.893617</td>\n",
       "      <td>0.900709</td>\n",
       "      <td>0.859155</td>\n",
       "    </tr>\n",
       "    <tr>\n",
       "      <th>...</th>\n",
       "      <td>...</td>\n",
       "      <td>...</td>\n",
       "      <td>...</td>\n",
       "      <td>...</td>\n",
       "      <td>...</td>\n",
       "      <td>...</td>\n",
       "      <td>...</td>\n",
       "      <td>...</td>\n",
       "      <td>...</td>\n",
       "    </tr>\n",
       "    <tr>\n",
       "      <th>75</th>\n",
       "      <td>NaN</td>\n",
       "      <td>10</td>\n",
       "      <td>5</td>\n",
       "      <td>0.873239</td>\n",
       "      <td>0.802817</td>\n",
       "      <td>0.842857</td>\n",
       "      <td>0.843972</td>\n",
       "      <td>0.865248</td>\n",
       "      <td>0.830986</td>\n",
       "    </tr>\n",
       "    <tr>\n",
       "      <th>76</th>\n",
       "      <td>NaN</td>\n",
       "      <td>10</td>\n",
       "      <td>7</td>\n",
       "      <td>0.873239</td>\n",
       "      <td>0.802817</td>\n",
       "      <td>0.842857</td>\n",
       "      <td>0.843972</td>\n",
       "      <td>0.865248</td>\n",
       "      <td>0.830986</td>\n",
       "    </tr>\n",
       "    <tr>\n",
       "      <th>77</th>\n",
       "      <td>NaN</td>\n",
       "      <td>10</td>\n",
       "      <td>10</td>\n",
       "      <td>0.873239</td>\n",
       "      <td>0.802817</td>\n",
       "      <td>0.842857</td>\n",
       "      <td>0.843972</td>\n",
       "      <td>0.865248</td>\n",
       "      <td>0.830986</td>\n",
       "    </tr>\n",
       "    <tr>\n",
       "      <th>78</th>\n",
       "      <td>NaN</td>\n",
       "      <td>10</td>\n",
       "      <td>13</td>\n",
       "      <td>0.873239</td>\n",
       "      <td>0.802817</td>\n",
       "      <td>0.842857</td>\n",
       "      <td>0.843972</td>\n",
       "      <td>0.865248</td>\n",
       "      <td>0.830986</td>\n",
       "    </tr>\n",
       "    <tr>\n",
       "      <th>79</th>\n",
       "      <td>NaN</td>\n",
       "      <td>10</td>\n",
       "      <td>15</td>\n",
       "      <td>0.873239</td>\n",
       "      <td>0.802817</td>\n",
       "      <td>0.842857</td>\n",
       "      <td>0.843972</td>\n",
       "      <td>0.865248</td>\n",
       "      <td>0.830986</td>\n",
       "    </tr>\n",
       "  </tbody>\n",
       "</table>\n",
       "<p>80 rows × 9 columns</p>\n",
       "</div>"
      ],
      "text/plain": [
       "    max_depth  min_samples_leaf  min_samples_split  split0_test_score  \\\n",
       "0         5.0                 3                  5           0.774648   \n",
       "1         5.0                 3                  7           0.774648   \n",
       "2         5.0                 3                 10           0.802817   \n",
       "3         5.0                 3                 13           0.802817   \n",
       "4         5.0                 3                 15           0.760563   \n",
       "..        ...               ...                ...                ...   \n",
       "75        NaN                10                  5           0.873239   \n",
       "76        NaN                10                  7           0.873239   \n",
       "77        NaN                10                 10           0.873239   \n",
       "78        NaN                10                 13           0.873239   \n",
       "79        NaN                10                 15           0.873239   \n",
       "\n",
       "    split1_test_score  split2_test_score  split0_train_score  \\\n",
       "0            0.816901           0.857143            0.936170   \n",
       "1            0.816901           0.857143            0.914894   \n",
       "2            0.830986           0.857143            0.907801   \n",
       "3            0.774648           0.857143            0.907801   \n",
       "4            0.774648           0.828571            0.893617   \n",
       "..                ...                ...                 ...   \n",
       "75           0.802817           0.842857            0.843972   \n",
       "76           0.802817           0.842857            0.843972   \n",
       "77           0.802817           0.842857            0.843972   \n",
       "78           0.802817           0.842857            0.843972   \n",
       "79           0.802817           0.842857            0.843972   \n",
       "\n",
       "    split1_train_score  split2_train_score  \n",
       "0             0.929078            0.880282  \n",
       "1             0.929078            0.880282  \n",
       "2             0.929078            0.880282  \n",
       "3             0.907801            0.880282  \n",
       "4             0.900709            0.859155  \n",
       "..                 ...                 ...  \n",
       "75            0.865248            0.830986  \n",
       "76            0.865248            0.830986  \n",
       "77            0.865248            0.830986  \n",
       "78            0.865248            0.830986  \n",
       "79            0.865248            0.830986  \n",
       "\n",
       "[80 rows x 9 columns]"
      ]
     },
     "execution_count": 65,
     "metadata": {},
     "output_type": "execute_result"
    }
   ],
   "source": [
    "cv_res"
   ]
  },
  {
   "cell_type": "code",
   "execution_count": 66,
   "id": "34fbe0e0",
   "metadata": {},
   "outputs": [],
   "source": [
    "best_dt = gridCV.best_estimator_"
   ]
  },
  {
   "cell_type": "code",
   "execution_count": 67,
   "id": "7aadb4c9",
   "metadata": {},
   "outputs": [
    {
     "data": {
      "text/plain": [
       "DecisionTreeClassifier(max_depth=5, min_samples_leaf=5, min_samples_split=7)"
      ]
     },
     "execution_count": 67,
     "metadata": {},
     "output_type": "execute_result"
    }
   ],
   "source": [
    "best_dt"
   ]
  },
  {
   "cell_type": "code",
   "execution_count": 68,
   "id": "75fe106e",
   "metadata": {},
   "outputs": [
    {
     "name": "stdout",
     "output_type": "stream",
     "text": [
      "Training Accuracy: 0.8867924528301887\n",
      "Testung Accuracy: 0.7362637362637363\n",
      "**************************************************\n",
      "Train Confusion Matrix: \n",
      "[[91  9]\n",
      " [15 97]]\n",
      "Test Confusion Matrix: \n",
      "[[28 10]\n",
      " [14 39]]\n",
      "**************************************************\n",
      "Train Classification Report \n",
      "              precision    recall  f1-score   support\n",
      "\n",
      "           0       0.86      0.91      0.88       100\n",
      "           1       0.92      0.87      0.89       112\n",
      "\n",
      "    accuracy                           0.89       212\n",
      "   macro avg       0.89      0.89      0.89       212\n",
      "weighted avg       0.89      0.89      0.89       212\n",
      "\n",
      "Test Classification Report: \n",
      "              precision    recall  f1-score   support\n",
      "\n",
      "           0       0.67      0.74      0.70        38\n",
      "           1       0.80      0.74      0.76        53\n",
      "\n",
      "    accuracy                           0.74        91\n",
      "   macro avg       0.73      0.74      0.73        91\n",
      "weighted avg       0.74      0.74      0.74        91\n",
      "\n"
     ]
    }
   ],
   "source": [
    "check_model(best_dt, train_X, test_X, train_y, test_y, fit=False)"
   ]
  },
  {
   "cell_type": "code",
   "execution_count": null,
   "id": "f206e514",
   "metadata": {},
   "outputs": [],
   "source": []
  },
  {
   "cell_type": "code",
   "execution_count": 69,
   "id": "3873acf5",
   "metadata": {},
   "outputs": [],
   "source": [
    "rf_clf = RandomForestClassifier()"
   ]
  },
  {
   "cell_type": "code",
   "execution_count": 70,
   "id": "4bc1454f",
   "metadata": {},
   "outputs": [
    {
     "name": "stdout",
     "output_type": "stream",
     "text": [
      "Training Accuracy: 1.0\n",
      "Testung Accuracy: 0.8351648351648352\n",
      "**************************************************\n",
      "Train Confusion Matrix: \n",
      "[[100   0]\n",
      " [  0 112]]\n",
      "Test Confusion Matrix: \n",
      "[[30  8]\n",
      " [ 7 46]]\n",
      "**************************************************\n",
      "Train Classification Report \n",
      "              precision    recall  f1-score   support\n",
      "\n",
      "           0       1.00      1.00      1.00       100\n",
      "           1       1.00      1.00      1.00       112\n",
      "\n",
      "    accuracy                           1.00       212\n",
      "   macro avg       1.00      1.00      1.00       212\n",
      "weighted avg       1.00      1.00      1.00       212\n",
      "\n",
      "Test Classification Report: \n",
      "              precision    recall  f1-score   support\n",
      "\n",
      "           0       0.81      0.79      0.80        38\n",
      "           1       0.85      0.87      0.86        53\n",
      "\n",
      "    accuracy                           0.84        91\n",
      "   macro avg       0.83      0.83      0.83        91\n",
      "weighted avg       0.83      0.84      0.83        91\n",
      "\n"
     ]
    }
   ],
   "source": [
    "check_model(rf_clf, train_X, test_X, train_y, test_y)"
   ]
  },
  {
   "cell_type": "code",
   "execution_count": null,
   "id": "e4f9f822",
   "metadata": {},
   "outputs": [],
   "source": []
  },
  {
   "cell_type": "code",
   "execution_count": 72,
   "id": "5034ce71",
   "metadata": {},
   "outputs": [
    {
     "data": {
      "text/plain": [
       "(303, 14)"
      ]
     },
     "execution_count": 72,
     "metadata": {},
     "output_type": "execute_result"
    }
   ],
   "source": [
    "heart.shape"
   ]
  },
  {
   "cell_type": "code",
   "execution_count": 102,
   "id": "5fafed83",
   "metadata": {},
   "outputs": [],
   "source": [
    "param_grid = {\n",
    "    'n_estimators': [10, 50, 150, 200],\n",
    "    'max_samples': [80, 120, 160, 200, 240, 280],\n",
    "    'max_features': [2,4,8,12],\n",
    "}"
   ]
  },
  {
   "cell_type": "code",
   "execution_count": 103,
   "id": "3cc66cee",
   "metadata": {},
   "outputs": [],
   "source": [
    "gridCV = GridSearchCV(rf_clf, param_grid=param_grid, cv=5, verbose=2)"
   ]
  },
  {
   "cell_type": "code",
   "execution_count": 104,
   "id": "916f792e",
   "metadata": {
    "scrolled": true
   },
   "outputs": [
    {
     "name": "stdout",
     "output_type": "stream",
     "text": [
      "Fitting 5 folds for each of 96 candidates, totalling 480 fits\n",
      "[CV] END ....max_features=2, max_samples=80, n_estimators=10; total time=   0.0s\n",
      "[CV] END ....max_features=2, max_samples=80, n_estimators=10; total time=   0.0s\n",
      "[CV] END ....max_features=2, max_samples=80, n_estimators=10; total time=   0.0s\n",
      "[CV] END ....max_features=2, max_samples=80, n_estimators=10; total time=   0.0s\n",
      "[CV] END ....max_features=2, max_samples=80, n_estimators=10; total time=   0.0s\n",
      "[CV] END ....max_features=2, max_samples=80, n_estimators=50; total time=   0.0s\n",
      "[CV] END ....max_features=2, max_samples=80, n_estimators=50; total time=   0.0s\n",
      "[CV] END ....max_features=2, max_samples=80, n_estimators=50; total time=   0.0s\n",
      "[CV] END ....max_features=2, max_samples=80, n_estimators=50; total time=   0.0s\n",
      "[CV] END ....max_features=2, max_samples=80, n_estimators=50; total time=   0.0s\n",
      "[CV] END ...max_features=2, max_samples=80, n_estimators=150; total time=   0.1s\n",
      "[CV] END ...max_features=2, max_samples=80, n_estimators=150; total time=   0.1s\n",
      "[CV] END ...max_features=2, max_samples=80, n_estimators=150; total time=   0.1s\n",
      "[CV] END ...max_features=2, max_samples=80, n_estimators=150; total time=   0.1s\n",
      "[CV] END ...max_features=2, max_samples=80, n_estimators=150; total time=   0.1s\n",
      "[CV] END ...max_features=2, max_samples=80, n_estimators=200; total time=   0.2s\n",
      "[CV] END ...max_features=2, max_samples=80, n_estimators=200; total time=   0.2s\n",
      "[CV] END ...max_features=2, max_samples=80, n_estimators=200; total time=   0.2s\n",
      "[CV] END ...max_features=2, max_samples=80, n_estimators=200; total time=   0.2s\n",
      "[CV] END ...max_features=2, max_samples=80, n_estimators=200; total time=   0.2s\n",
      "[CV] END ...max_features=2, max_samples=120, n_estimators=10; total time=   0.0s\n",
      "[CV] END ...max_features=2, max_samples=120, n_estimators=10; total time=   0.0s\n",
      "[CV] END ...max_features=2, max_samples=120, n_estimators=10; total time=   0.0s\n",
      "[CV] END ...max_features=2, max_samples=120, n_estimators=10; total time=   0.0s\n",
      "[CV] END ...max_features=2, max_samples=120, n_estimators=10; total time=   0.0s\n",
      "[CV] END ...max_features=2, max_samples=120, n_estimators=50; total time=   0.0s\n",
      "[CV] END ...max_features=2, max_samples=120, n_estimators=50; total time=   0.0s\n",
      "[CV] END ...max_features=2, max_samples=120, n_estimators=50; total time=   0.0s\n",
      "[CV] END ...max_features=2, max_samples=120, n_estimators=50; total time=   0.0s\n",
      "[CV] END ...max_features=2, max_samples=120, n_estimators=50; total time=   0.0s\n",
      "[CV] END ..max_features=2, max_samples=120, n_estimators=150; total time=   0.0s\n",
      "[CV] END ..max_features=2, max_samples=120, n_estimators=150; total time=   0.2s\n",
      "[CV] END ..max_features=2, max_samples=120, n_estimators=150; total time=   0.1s\n",
      "[CV] END ..max_features=2, max_samples=120, n_estimators=150; total time=   0.1s\n",
      "[CV] END ..max_features=2, max_samples=120, n_estimators=150; total time=   0.1s\n",
      "[CV] END ..max_features=2, max_samples=120, n_estimators=200; total time=   0.2s\n",
      "[CV] END ..max_features=2, max_samples=120, n_estimators=200; total time=   0.2s\n",
      "[CV] END ..max_features=2, max_samples=120, n_estimators=200; total time=   0.2s\n",
      "[CV] END ..max_features=2, max_samples=120, n_estimators=200; total time=   0.2s\n",
      "[CV] END ..max_features=2, max_samples=120, n_estimators=200; total time=   0.2s\n",
      "[CV] END ...max_features=2, max_samples=160, n_estimators=10; total time=   0.0s\n",
      "[CV] END ...max_features=2, max_samples=160, n_estimators=10; total time=   0.0s\n",
      "[CV] END ...max_features=2, max_samples=160, n_estimators=10; total time=   0.0s\n",
      "[CV] END ...max_features=2, max_samples=160, n_estimators=10; total time=   0.0s\n",
      "[CV] END ...max_features=2, max_samples=160, n_estimators=10; total time=   0.0s\n",
      "[CV] END ...max_features=2, max_samples=160, n_estimators=50; total time=   0.0s\n",
      "[CV] END ...max_features=2, max_samples=160, n_estimators=50; total time=   0.0s\n",
      "[CV] END ...max_features=2, max_samples=160, n_estimators=50; total time=   0.0s\n",
      "[CV] END ...max_features=2, max_samples=160, n_estimators=50; total time=   0.0s\n",
      "[CV] END ...max_features=2, max_samples=160, n_estimators=50; total time=   0.0s\n",
      "[CV] END ..max_features=2, max_samples=160, n_estimators=150; total time=   0.1s\n",
      "[CV] END ..max_features=2, max_samples=160, n_estimators=150; total time=   0.1s\n",
      "[CV] END ..max_features=2, max_samples=160, n_estimators=150; total time=   0.1s\n",
      "[CV] END ..max_features=2, max_samples=160, n_estimators=150; total time=   0.1s\n",
      "[CV] END ..max_features=2, max_samples=160, n_estimators=150; total time=   0.1s\n",
      "[CV] END ..max_features=2, max_samples=160, n_estimators=200; total time=   0.2s\n",
      "[CV] END ..max_features=2, max_samples=160, n_estimators=200; total time=   0.3s\n",
      "[CV] END ..max_features=2, max_samples=160, n_estimators=200; total time=   0.2s\n",
      "[CV] END ..max_features=2, max_samples=160, n_estimators=200; total time=   0.1s\n",
      "[CV] END ..max_features=2, max_samples=160, n_estimators=200; total time=   0.2s\n",
      "[CV] END ...max_features=2, max_samples=200, n_estimators=10; total time=   0.0s\n",
      "[CV] END ...max_features=2, max_samples=200, n_estimators=10; total time=   0.0s\n",
      "[CV] END ...max_features=2, max_samples=200, n_estimators=10; total time=   0.0s\n",
      "[CV] END ...max_features=2, max_samples=200, n_estimators=10; total time=   0.0s\n",
      "[CV] END ...max_features=2, max_samples=200, n_estimators=10; total time=   0.0s\n",
      "[CV] END ...max_features=2, max_samples=200, n_estimators=50; total time=   0.0s\n",
      "[CV] END ...max_features=2, max_samples=200, n_estimators=50; total time=   0.0s\n",
      "[CV] END ...max_features=2, max_samples=200, n_estimators=50; total time=   0.0s\n",
      "[CV] END ...max_features=2, max_samples=200, n_estimators=50; total time=   0.0s\n",
      "[CV] END ...max_features=2, max_samples=200, n_estimators=50; total time=   0.0s\n",
      "[CV] END ..max_features=2, max_samples=200, n_estimators=150; total time=   0.2s\n",
      "[CV] END ..max_features=2, max_samples=200, n_estimators=150; total time=   0.2s\n",
      "[CV] END ..max_features=2, max_samples=200, n_estimators=150; total time=   0.1s\n",
      "[CV] END ..max_features=2, max_samples=200, n_estimators=150; total time=   0.1s\n",
      "[CV] END ..max_features=2, max_samples=200, n_estimators=150; total time=   0.2s\n",
      "[CV] END ..max_features=2, max_samples=200, n_estimators=200; total time=   0.2s\n",
      "[CV] END ..max_features=2, max_samples=200, n_estimators=200; total time=   0.3s\n",
      "[CV] END ..max_features=2, max_samples=200, n_estimators=200; total time=   0.3s\n",
      "[CV] END ..max_features=2, max_samples=200, n_estimators=200; total time=   0.2s\n",
      "[CV] END ..max_features=2, max_samples=200, n_estimators=200; total time=   0.2s\n",
      "[CV] END ...max_features=2, max_samples=240, n_estimators=10; total time=   0.0s\n",
      "[CV] END ...max_features=2, max_samples=240, n_estimators=10; total time=   0.0s\n",
      "[CV] END ...max_features=2, max_samples=240, n_estimators=10; total time=   0.0s\n",
      "[CV] END ...max_features=2, max_samples=240, n_estimators=10; total time=   0.0s\n",
      "[CV] END ...max_features=2, max_samples=240, n_estimators=10; total time=   0.0s\n",
      "[CV] END ...max_features=2, max_samples=240, n_estimators=50; total time=   0.0s\n",
      "[CV] END ...max_features=2, max_samples=240, n_estimators=50; total time=   0.0s\n",
      "[CV] END ...max_features=2, max_samples=240, n_estimators=50; total time=   0.0s\n",
      "[CV] END ...max_features=2, max_samples=240, n_estimators=50; total time=   0.0s\n",
      "[CV] END ...max_features=2, max_samples=240, n_estimators=50; total time=   0.0s\n",
      "[CV] END ..max_features=2, max_samples=240, n_estimators=150; total time=   0.0s\n",
      "[CV] END ..max_features=2, max_samples=240, n_estimators=150; total time=   0.0s\n",
      "[CV] END ..max_features=2, max_samples=240, n_estimators=150; total time=   0.0s\n",
      "[CV] END ..max_features=2, max_samples=240, n_estimators=150; total time=   0.0s\n",
      "[CV] END ..max_features=2, max_samples=240, n_estimators=150; total time=   0.0s\n",
      "[CV] END ..max_features=2, max_samples=240, n_estimators=200; total time=   0.0s\n",
      "[CV] END ..max_features=2, max_samples=240, n_estimators=200; total time=   0.0s\n",
      "[CV] END ..max_features=2, max_samples=240, n_estimators=200; total time=   0.0s\n",
      "[CV] END ..max_features=2, max_samples=240, n_estimators=200; total time=   0.0s\n",
      "[CV] END ..max_features=2, max_samples=240, n_estimators=200; total time=   0.0s\n",
      "[CV] END ...max_features=2, max_samples=280, n_estimators=10; total time=   0.0s\n",
      "[CV] END ...max_features=2, max_samples=280, n_estimators=10; total time=   0.0s\n",
      "[CV] END ...max_features=2, max_samples=280, n_estimators=10; total time=   0.0s\n",
      "[CV] END ...max_features=2, max_samples=280, n_estimators=10; total time=   0.0s\n",
      "[CV] END ...max_features=2, max_samples=280, n_estimators=10; total time=   0.0s\n",
      "[CV] END ...max_features=2, max_samples=280, n_estimators=50; total time=   0.0s\n",
      "[CV] END ...max_features=2, max_samples=280, n_estimators=50; total time=   0.0s\n",
      "[CV] END ...max_features=2, max_samples=280, n_estimators=50; total time=   0.0s\n",
      "[CV] END ...max_features=2, max_samples=280, n_estimators=50; total time=   0.0s\n",
      "[CV] END ...max_features=2, max_samples=280, n_estimators=50; total time=   0.0s\n",
      "[CV] END ..max_features=2, max_samples=280, n_estimators=150; total time=   0.0s\n",
      "[CV] END ..max_features=2, max_samples=280, n_estimators=150; total time=   0.0s\n",
      "[CV] END ..max_features=2, max_samples=280, n_estimators=150; total time=   0.0s\n",
      "[CV] END ..max_features=2, max_samples=280, n_estimators=150; total time=   0.0s\n",
      "[CV] END ..max_features=2, max_samples=280, n_estimators=150; total time=   0.0s\n",
      "[CV] END ..max_features=2, max_samples=280, n_estimators=200; total time=   0.0s\n",
      "[CV] END ..max_features=2, max_samples=280, n_estimators=200; total time=   0.0s\n",
      "[CV] END ..max_features=2, max_samples=280, n_estimators=200; total time=   0.0s\n",
      "[CV] END ..max_features=2, max_samples=280, n_estimators=200; total time=   0.0s\n",
      "[CV] END ..max_features=2, max_samples=280, n_estimators=200; total time=   0.0s\n",
      "[CV] END ....max_features=4, max_samples=80, n_estimators=10; total time=   0.0s\n"
     ]
    },
    {
     "name": "stdout",
     "output_type": "stream",
     "text": [
      "[CV] END ....max_features=4, max_samples=80, n_estimators=10; total time=   0.0s\n",
      "[CV] END ....max_features=4, max_samples=80, n_estimators=10; total time=   0.0s\n",
      "[CV] END ....max_features=4, max_samples=80, n_estimators=10; total time=   0.0s\n",
      "[CV] END ....max_features=4, max_samples=80, n_estimators=10; total time=   0.0s\n",
      "[CV] END ....max_features=4, max_samples=80, n_estimators=50; total time=   0.0s\n",
      "[CV] END ....max_features=4, max_samples=80, n_estimators=50; total time=   0.0s\n",
      "[CV] END ....max_features=4, max_samples=80, n_estimators=50; total time=   0.0s\n",
      "[CV] END ....max_features=4, max_samples=80, n_estimators=50; total time=   0.0s\n",
      "[CV] END ....max_features=4, max_samples=80, n_estimators=50; total time=   0.0s\n",
      "[CV] END ...max_features=4, max_samples=80, n_estimators=150; total time=   0.2s\n",
      "[CV] END ...max_features=4, max_samples=80, n_estimators=150; total time=   0.2s\n",
      "[CV] END ...max_features=4, max_samples=80, n_estimators=150; total time=   0.2s\n",
      "[CV] END ...max_features=4, max_samples=80, n_estimators=150; total time=   0.1s\n",
      "[CV] END ...max_features=4, max_samples=80, n_estimators=150; total time=   0.2s\n",
      "[CV] END ...max_features=4, max_samples=80, n_estimators=200; total time=   0.2s\n",
      "[CV] END ...max_features=4, max_samples=80, n_estimators=200; total time=   0.2s\n",
      "[CV] END ...max_features=4, max_samples=80, n_estimators=200; total time=   0.1s\n",
      "[CV] END ...max_features=4, max_samples=80, n_estimators=200; total time=   0.2s\n",
      "[CV] END ...max_features=4, max_samples=80, n_estimators=200; total time=   0.3s\n",
      "[CV] END ...max_features=4, max_samples=120, n_estimators=10; total time=   0.0s\n",
      "[CV] END ...max_features=4, max_samples=120, n_estimators=10; total time=   0.0s\n",
      "[CV] END ...max_features=4, max_samples=120, n_estimators=10; total time=   0.0s\n",
      "[CV] END ...max_features=4, max_samples=120, n_estimators=10; total time=   0.0s\n",
      "[CV] END ...max_features=4, max_samples=120, n_estimators=10; total time=   0.0s\n",
      "[CV] END ...max_features=4, max_samples=120, n_estimators=50; total time=   0.0s\n",
      "[CV] END ...max_features=4, max_samples=120, n_estimators=50; total time=   0.0s\n",
      "[CV] END ...max_features=4, max_samples=120, n_estimators=50; total time=   0.0s\n",
      "[CV] END ...max_features=4, max_samples=120, n_estimators=50; total time=   0.0s\n",
      "[CV] END ...max_features=4, max_samples=120, n_estimators=50; total time=   0.0s\n",
      "[CV] END ..max_features=4, max_samples=120, n_estimators=150; total time=   0.2s\n",
      "[CV] END ..max_features=4, max_samples=120, n_estimators=150; total time=   0.1s\n",
      "[CV] END ..max_features=4, max_samples=120, n_estimators=150; total time=   0.1s\n",
      "[CV] END ..max_features=4, max_samples=120, n_estimators=150; total time=   0.1s\n",
      "[CV] END ..max_features=4, max_samples=120, n_estimators=150; total time=   0.2s\n",
      "[CV] END ..max_features=4, max_samples=120, n_estimators=200; total time=   0.2s\n",
      "[CV] END ..max_features=4, max_samples=120, n_estimators=200; total time=   0.2s\n",
      "[CV] END ..max_features=4, max_samples=120, n_estimators=200; total time=   0.2s\n",
      "[CV] END ..max_features=4, max_samples=120, n_estimators=200; total time=   0.2s\n",
      "[CV] END ..max_features=4, max_samples=120, n_estimators=200; total time=   0.2s\n",
      "[CV] END ...max_features=4, max_samples=160, n_estimators=10; total time=   0.0s\n",
      "[CV] END ...max_features=4, max_samples=160, n_estimators=10; total time=   0.0s\n",
      "[CV] END ...max_features=4, max_samples=160, n_estimators=10; total time=   0.0s\n",
      "[CV] END ...max_features=4, max_samples=160, n_estimators=10; total time=   0.0s\n",
      "[CV] END ...max_features=4, max_samples=160, n_estimators=10; total time=   0.0s\n",
      "[CV] END ...max_features=4, max_samples=160, n_estimators=50; total time=   0.0s\n",
      "[CV] END ...max_features=4, max_samples=160, n_estimators=50; total time=   0.0s\n",
      "[CV] END ...max_features=4, max_samples=160, n_estimators=50; total time=   0.0s\n",
      "[CV] END ...max_features=4, max_samples=160, n_estimators=50; total time=   0.0s\n",
      "[CV] END ...max_features=4, max_samples=160, n_estimators=50; total time=   0.0s\n",
      "[CV] END ..max_features=4, max_samples=160, n_estimators=150; total time=   0.1s\n",
      "[CV] END ..max_features=4, max_samples=160, n_estimators=150; total time=   0.2s\n",
      "[CV] END ..max_features=4, max_samples=160, n_estimators=150; total time=   0.1s\n",
      "[CV] END ..max_features=4, max_samples=160, n_estimators=150; total time=   0.2s\n",
      "[CV] END ..max_features=4, max_samples=160, n_estimators=150; total time=   0.2s\n",
      "[CV] END ..max_features=4, max_samples=160, n_estimators=200; total time=   0.2s\n",
      "[CV] END ..max_features=4, max_samples=160, n_estimators=200; total time=   0.2s\n",
      "[CV] END ..max_features=4, max_samples=160, n_estimators=200; total time=   0.2s\n",
      "[CV] END ..max_features=4, max_samples=160, n_estimators=200; total time=   0.2s\n",
      "[CV] END ..max_features=4, max_samples=160, n_estimators=200; total time=   0.1s\n",
      "[CV] END ...max_features=4, max_samples=200, n_estimators=10; total time=   0.0s\n",
      "[CV] END ...max_features=4, max_samples=200, n_estimators=10; total time=   0.0s\n",
      "[CV] END ...max_features=4, max_samples=200, n_estimators=10; total time=   0.0s\n",
      "[CV] END ...max_features=4, max_samples=200, n_estimators=10; total time=   0.0s\n",
      "[CV] END ...max_features=4, max_samples=200, n_estimators=10; total time=   0.0s\n",
      "[CV] END ...max_features=4, max_samples=200, n_estimators=50; total time=   0.0s\n",
      "[CV] END ...max_features=4, max_samples=200, n_estimators=50; total time=   0.0s\n",
      "[CV] END ...max_features=4, max_samples=200, n_estimators=50; total time=   0.0s\n",
      "[CV] END ...max_features=4, max_samples=200, n_estimators=50; total time=   0.0s\n",
      "[CV] END ...max_features=4, max_samples=200, n_estimators=50; total time=   0.0s\n",
      "[CV] END ..max_features=4, max_samples=200, n_estimators=150; total time=   0.2s\n",
      "[CV] END ..max_features=4, max_samples=200, n_estimators=150; total time=   0.2s\n",
      "[CV] END ..max_features=4, max_samples=200, n_estimators=150; total time=   0.2s\n",
      "[CV] END ..max_features=4, max_samples=200, n_estimators=150; total time=   0.2s\n",
      "[CV] END ..max_features=4, max_samples=200, n_estimators=150; total time=   0.2s\n",
      "[CV] END ..max_features=4, max_samples=200, n_estimators=200; total time=   0.3s\n",
      "[CV] END ..max_features=4, max_samples=200, n_estimators=200; total time=   0.2s\n",
      "[CV] END ..max_features=4, max_samples=200, n_estimators=200; total time=   0.2s\n",
      "[CV] END ..max_features=4, max_samples=200, n_estimators=200; total time=   0.2s\n",
      "[CV] END ..max_features=4, max_samples=200, n_estimators=200; total time=   0.2s\n",
      "[CV] END ...max_features=4, max_samples=240, n_estimators=10; total time=   0.0s\n",
      "[CV] END ...max_features=4, max_samples=240, n_estimators=10; total time=   0.0s\n",
      "[CV] END ...max_features=4, max_samples=240, n_estimators=10; total time=   0.0s\n",
      "[CV] END ...max_features=4, max_samples=240, n_estimators=10; total time=   0.0s\n",
      "[CV] END ...max_features=4, max_samples=240, n_estimators=10; total time=   0.0s\n",
      "[CV] END ...max_features=4, max_samples=240, n_estimators=50; total time=   0.0s\n",
      "[CV] END ...max_features=4, max_samples=240, n_estimators=50; total time=   0.0s\n",
      "[CV] END ...max_features=4, max_samples=240, n_estimators=50; total time=   0.0s\n",
      "[CV] END ...max_features=4, max_samples=240, n_estimators=50; total time=   0.0s\n",
      "[CV] END ...max_features=4, max_samples=240, n_estimators=50; total time=   0.0s\n",
      "[CV] END ..max_features=4, max_samples=240, n_estimators=150; total time=   0.0s\n",
      "[CV] END ..max_features=4, max_samples=240, n_estimators=150; total time=   0.0s\n",
      "[CV] END ..max_features=4, max_samples=240, n_estimators=150; total time=   0.0s\n",
      "[CV] END ..max_features=4, max_samples=240, n_estimators=150; total time=   0.0s\n",
      "[CV] END ..max_features=4, max_samples=240, n_estimators=150; total time=   0.0s\n",
      "[CV] END ..max_features=4, max_samples=240, n_estimators=200; total time=   0.0s\n",
      "[CV] END ..max_features=4, max_samples=240, n_estimators=200; total time=   0.0s\n",
      "[CV] END ..max_features=4, max_samples=240, n_estimators=200; total time=   0.0s\n",
      "[CV] END ..max_features=4, max_samples=240, n_estimators=200; total time=   0.0s\n",
      "[CV] END ..max_features=4, max_samples=240, n_estimators=200; total time=   0.0s\n",
      "[CV] END ...max_features=4, max_samples=280, n_estimators=10; total time=   0.0s\n",
      "[CV] END ...max_features=4, max_samples=280, n_estimators=10; total time=   0.0s\n",
      "[CV] END ...max_features=4, max_samples=280, n_estimators=10; total time=   0.0s\n",
      "[CV] END ...max_features=4, max_samples=280, n_estimators=10; total time=   0.0s\n",
      "[CV] END ...max_features=4, max_samples=280, n_estimators=10; total time=   0.0s\n",
      "[CV] END ...max_features=4, max_samples=280, n_estimators=50; total time=   0.0s\n",
      "[CV] END ...max_features=4, max_samples=280, n_estimators=50; total time=   0.0s\n",
      "[CV] END ...max_features=4, max_samples=280, n_estimators=50; total time=   0.0s\n",
      "[CV] END ...max_features=4, max_samples=280, n_estimators=50; total time=   0.0s\n",
      "[CV] END ...max_features=4, max_samples=280, n_estimators=50; total time=   0.0s\n",
      "[CV] END ..max_features=4, max_samples=280, n_estimators=150; total time=   0.0s\n",
      "[CV] END ..max_features=4, max_samples=280, n_estimators=150; total time=   0.0s\n",
      "[CV] END ..max_features=4, max_samples=280, n_estimators=150; total time=   0.0s\n",
      "[CV] END ..max_features=4, max_samples=280, n_estimators=150; total time=   0.0s\n",
      "[CV] END ..max_features=4, max_samples=280, n_estimators=150; total time=   0.0s\n",
      "[CV] END ..max_features=4, max_samples=280, n_estimators=200; total time=   0.0s\n",
      "[CV] END ..max_features=4, max_samples=280, n_estimators=200; total time=   0.0s\n",
      "[CV] END ..max_features=4, max_samples=280, n_estimators=200; total time=   0.0s\n",
      "[CV] END ..max_features=4, max_samples=280, n_estimators=200; total time=   0.0s\n"
     ]
    },
    {
     "name": "stdout",
     "output_type": "stream",
     "text": [
      "[CV] END ..max_features=4, max_samples=280, n_estimators=200; total time=   0.0s\n",
      "[CV] END ....max_features=8, max_samples=80, n_estimators=10; total time=   0.0s\n",
      "[CV] END ....max_features=8, max_samples=80, n_estimators=10; total time=   0.0s\n",
      "[CV] END ....max_features=8, max_samples=80, n_estimators=10; total time=   0.0s\n",
      "[CV] END ....max_features=8, max_samples=80, n_estimators=10; total time=   0.0s\n",
      "[CV] END ....max_features=8, max_samples=80, n_estimators=10; total time=   0.0s\n",
      "[CV] END ....max_features=8, max_samples=80, n_estimators=50; total time=   0.0s\n",
      "[CV] END ....max_features=8, max_samples=80, n_estimators=50; total time=   0.0s\n",
      "[CV] END ....max_features=8, max_samples=80, n_estimators=50; total time=   0.0s\n",
      "[CV] END ....max_features=8, max_samples=80, n_estimators=50; total time=   0.0s\n",
      "[CV] END ....max_features=8, max_samples=80, n_estimators=50; total time=   0.0s\n",
      "[CV] END ...max_features=8, max_samples=80, n_estimators=150; total time=   0.1s\n",
      "[CV] END ...max_features=8, max_samples=80, n_estimators=150; total time=   0.1s\n",
      "[CV] END ...max_features=8, max_samples=80, n_estimators=150; total time=   0.2s\n",
      "[CV] END ...max_features=8, max_samples=80, n_estimators=150; total time=   0.1s\n",
      "[CV] END ...max_features=8, max_samples=80, n_estimators=150; total time=   0.1s\n",
      "[CV] END ...max_features=8, max_samples=80, n_estimators=200; total time=   0.2s\n",
      "[CV] END ...max_features=8, max_samples=80, n_estimators=200; total time=   0.2s\n",
      "[CV] END ...max_features=8, max_samples=80, n_estimators=200; total time=   0.3s\n",
      "[CV] END ...max_features=8, max_samples=80, n_estimators=200; total time=   0.2s\n",
      "[CV] END ...max_features=8, max_samples=80, n_estimators=200; total time=   0.2s\n",
      "[CV] END ...max_features=8, max_samples=120, n_estimators=10; total time=   0.0s\n",
      "[CV] END ...max_features=8, max_samples=120, n_estimators=10; total time=   0.0s\n",
      "[CV] END ...max_features=8, max_samples=120, n_estimators=10; total time=   0.0s\n",
      "[CV] END ...max_features=8, max_samples=120, n_estimators=10; total time=   0.0s\n",
      "[CV] END ...max_features=8, max_samples=120, n_estimators=10; total time=   0.0s\n",
      "[CV] END ...max_features=8, max_samples=120, n_estimators=50; total time=   0.0s\n",
      "[CV] END ...max_features=8, max_samples=120, n_estimators=50; total time=   0.0s\n",
      "[CV] END ...max_features=8, max_samples=120, n_estimators=50; total time=   0.0s\n",
      "[CV] END ...max_features=8, max_samples=120, n_estimators=50; total time=   0.0s\n",
      "[CV] END ...max_features=8, max_samples=120, n_estimators=50; total time=   0.0s\n",
      "[CV] END ..max_features=8, max_samples=120, n_estimators=150; total time=   0.2s\n",
      "[CV] END ..max_features=8, max_samples=120, n_estimators=150; total time=   0.2s\n",
      "[CV] END ..max_features=8, max_samples=120, n_estimators=150; total time=   0.2s\n",
      "[CV] END ..max_features=8, max_samples=120, n_estimators=150; total time=   0.1s\n",
      "[CV] END ..max_features=8, max_samples=120, n_estimators=150; total time=   0.1s\n",
      "[CV] END ..max_features=8, max_samples=120, n_estimators=200; total time=   0.3s\n",
      "[CV] END ..max_features=8, max_samples=120, n_estimators=200; total time=   0.3s\n",
      "[CV] END ..max_features=8, max_samples=120, n_estimators=200; total time=   0.2s\n",
      "[CV] END ..max_features=8, max_samples=120, n_estimators=200; total time=   0.2s\n",
      "[CV] END ..max_features=8, max_samples=120, n_estimators=200; total time=   0.3s\n",
      "[CV] END ...max_features=8, max_samples=160, n_estimators=10; total time=   0.0s\n",
      "[CV] END ...max_features=8, max_samples=160, n_estimators=10; total time=   0.0s\n",
      "[CV] END ...max_features=8, max_samples=160, n_estimators=10; total time=   0.0s\n",
      "[CV] END ...max_features=8, max_samples=160, n_estimators=10; total time=   0.0s\n",
      "[CV] END ...max_features=8, max_samples=160, n_estimators=10; total time=   0.0s\n",
      "[CV] END ...max_features=8, max_samples=160, n_estimators=50; total time=   0.0s\n",
      "[CV] END ...max_features=8, max_samples=160, n_estimators=50; total time=   0.0s\n",
      "[CV] END ...max_features=8, max_samples=160, n_estimators=50; total time=   0.0s\n",
      "[CV] END ...max_features=8, max_samples=160, n_estimators=50; total time=   0.0s\n",
      "[CV] END ...max_features=8, max_samples=160, n_estimators=50; total time=   0.1s\n",
      "[CV] END ..max_features=8, max_samples=160, n_estimators=150; total time=   0.3s\n",
      "[CV] END ..max_features=8, max_samples=160, n_estimators=150; total time=   0.2s\n",
      "[CV] END ..max_features=8, max_samples=160, n_estimators=150; total time=   0.3s\n",
      "[CV] END ..max_features=8, max_samples=160, n_estimators=150; total time=   0.3s\n",
      "[CV] END ..max_features=8, max_samples=160, n_estimators=150; total time=   0.2s\n",
      "[CV] END ..max_features=8, max_samples=160, n_estimators=200; total time=   0.2s\n",
      "[CV] END ..max_features=8, max_samples=160, n_estimators=200; total time=   0.2s\n",
      "[CV] END ..max_features=8, max_samples=160, n_estimators=200; total time=   0.3s\n",
      "[CV] END ..max_features=8, max_samples=160, n_estimators=200; total time=   0.3s\n",
      "[CV] END ..max_features=8, max_samples=160, n_estimators=200; total time=   0.3s\n",
      "[CV] END ...max_features=8, max_samples=200, n_estimators=10; total time=   0.0s\n",
      "[CV] END ...max_features=8, max_samples=200, n_estimators=10; total time=   0.0s\n",
      "[CV] END ...max_features=8, max_samples=200, n_estimators=10; total time=   0.0s\n",
      "[CV] END ...max_features=8, max_samples=200, n_estimators=10; total time=   0.0s\n",
      "[CV] END ...max_features=8, max_samples=200, n_estimators=10; total time=   0.0s\n",
      "[CV] END ...max_features=8, max_samples=200, n_estimators=50; total time=   0.0s\n",
      "[CV] END ...max_features=8, max_samples=200, n_estimators=50; total time=   0.0s\n",
      "[CV] END ...max_features=8, max_samples=200, n_estimators=50; total time=   0.0s\n",
      "[CV] END ...max_features=8, max_samples=200, n_estimators=50; total time=   0.0s\n",
      "[CV] END ...max_features=8, max_samples=200, n_estimators=50; total time=   0.0s\n",
      "[CV] END ..max_features=8, max_samples=200, n_estimators=150; total time=   0.1s\n",
      "[CV] END ..max_features=8, max_samples=200, n_estimators=150; total time=   0.1s\n",
      "[CV] END ..max_features=8, max_samples=200, n_estimators=150; total time=   0.2s\n",
      "[CV] END ..max_features=8, max_samples=200, n_estimators=150; total time=   0.2s\n",
      "[CV] END ..max_features=8, max_samples=200, n_estimators=150; total time=   0.2s\n",
      "[CV] END ..max_features=8, max_samples=200, n_estimators=200; total time=   0.2s\n",
      "[CV] END ..max_features=8, max_samples=200, n_estimators=200; total time=   0.3s\n",
      "[CV] END ..max_features=8, max_samples=200, n_estimators=200; total time=   0.2s\n",
      "[CV] END ..max_features=8, max_samples=200, n_estimators=200; total time=   0.3s\n",
      "[CV] END ..max_features=8, max_samples=200, n_estimators=200; total time=   0.2s\n",
      "[CV] END ...max_features=8, max_samples=240, n_estimators=10; total time=   0.0s\n",
      "[CV] END ...max_features=8, max_samples=240, n_estimators=10; total time=   0.0s\n",
      "[CV] END ...max_features=8, max_samples=240, n_estimators=10; total time=   0.0s\n",
      "[CV] END ...max_features=8, max_samples=240, n_estimators=10; total time=   0.0s\n",
      "[CV] END ...max_features=8, max_samples=240, n_estimators=10; total time=   0.0s\n",
      "[CV] END ...max_features=8, max_samples=240, n_estimators=50; total time=   0.0s\n",
      "[CV] END ...max_features=8, max_samples=240, n_estimators=50; total time=   0.0s\n",
      "[CV] END ...max_features=8, max_samples=240, n_estimators=50; total time=   0.0s\n",
      "[CV] END ...max_features=8, max_samples=240, n_estimators=50; total time=   0.0s\n",
      "[CV] END ...max_features=8, max_samples=240, n_estimators=50; total time=   0.0s\n",
      "[CV] END ..max_features=8, max_samples=240, n_estimators=150; total time=   0.0s\n",
      "[CV] END ..max_features=8, max_samples=240, n_estimators=150; total time=   0.0s\n",
      "[CV] END ..max_features=8, max_samples=240, n_estimators=150; total time=   0.0s\n",
      "[CV] END ..max_features=8, max_samples=240, n_estimators=150; total time=   0.0s\n",
      "[CV] END ..max_features=8, max_samples=240, n_estimators=150; total time=   0.0s\n",
      "[CV] END ..max_features=8, max_samples=240, n_estimators=200; total time=   0.0s\n",
      "[CV] END ..max_features=8, max_samples=240, n_estimators=200; total time=   0.0s\n",
      "[CV] END ..max_features=8, max_samples=240, n_estimators=200; total time=   0.0s\n",
      "[CV] END ..max_features=8, max_samples=240, n_estimators=200; total time=   0.0s\n",
      "[CV] END ..max_features=8, max_samples=240, n_estimators=200; total time=   0.0s\n",
      "[CV] END ...max_features=8, max_samples=280, n_estimators=10; total time=   0.0s\n",
      "[CV] END ...max_features=8, max_samples=280, n_estimators=10; total time=   0.0s\n",
      "[CV] END ...max_features=8, max_samples=280, n_estimators=10; total time=   0.0s\n",
      "[CV] END ...max_features=8, max_samples=280, n_estimators=10; total time=   0.0s\n",
      "[CV] END ...max_features=8, max_samples=280, n_estimators=10; total time=   0.0s\n",
      "[CV] END ...max_features=8, max_samples=280, n_estimators=50; total time=   0.0s\n",
      "[CV] END ...max_features=8, max_samples=280, n_estimators=50; total time=   0.0s\n",
      "[CV] END ...max_features=8, max_samples=280, n_estimators=50; total time=   0.0s\n",
      "[CV] END ...max_features=8, max_samples=280, n_estimators=50; total time=   0.0s\n",
      "[CV] END ...max_features=8, max_samples=280, n_estimators=50; total time=   0.0s\n",
      "[CV] END ..max_features=8, max_samples=280, n_estimators=150; total time=   0.0s\n",
      "[CV] END ..max_features=8, max_samples=280, n_estimators=150; total time=   0.0s\n",
      "[CV] END ..max_features=8, max_samples=280, n_estimators=150; total time=   0.0s\n",
      "[CV] END ..max_features=8, max_samples=280, n_estimators=150; total time=   0.0s\n",
      "[CV] END ..max_features=8, max_samples=280, n_estimators=150; total time=   0.0s\n",
      "[CV] END ..max_features=8, max_samples=280, n_estimators=200; total time=   0.0s\n",
      "[CV] END ..max_features=8, max_samples=280, n_estimators=200; total time=   0.0s\n",
      "[CV] END ..max_features=8, max_samples=280, n_estimators=200; total time=   0.0s\n",
      "[CV] END ..max_features=8, max_samples=280, n_estimators=200; total time=   0.0s\n",
      "[CV] END ..max_features=8, max_samples=280, n_estimators=200; total time=   0.0s\n",
      "[CV] END ...max_features=12, max_samples=80, n_estimators=10; total time=   0.0s\n",
      "[CV] END ...max_features=12, max_samples=80, n_estimators=10; total time=   0.0s\n"
     ]
    },
    {
     "name": "stdout",
     "output_type": "stream",
     "text": [
      "[CV] END ...max_features=12, max_samples=80, n_estimators=10; total time=   0.0s\n",
      "[CV] END ...max_features=12, max_samples=80, n_estimators=10; total time=   0.0s\n",
      "[CV] END ...max_features=12, max_samples=80, n_estimators=10; total time=   0.0s\n",
      "[CV] END ...max_features=12, max_samples=80, n_estimators=50; total time=   0.0s\n",
      "[CV] END ...max_features=12, max_samples=80, n_estimators=50; total time=   0.0s\n",
      "[CV] END ...max_features=12, max_samples=80, n_estimators=50; total time=   0.0s\n",
      "[CV] END ...max_features=12, max_samples=80, n_estimators=50; total time=   0.1s\n",
      "[CV] END ...max_features=12, max_samples=80, n_estimators=50; total time=   0.0s\n",
      "[CV] END ..max_features=12, max_samples=80, n_estimators=150; total time=   0.2s\n",
      "[CV] END ..max_features=12, max_samples=80, n_estimators=150; total time=   0.3s\n",
      "[CV] END ..max_features=12, max_samples=80, n_estimators=150; total time=   0.1s\n",
      "[CV] END ..max_features=12, max_samples=80, n_estimators=150; total time=   0.2s\n",
      "[CV] END ..max_features=12, max_samples=80, n_estimators=150; total time=   0.3s\n",
      "[CV] END ..max_features=12, max_samples=80, n_estimators=200; total time=   0.2s\n",
      "[CV] END ..max_features=12, max_samples=80, n_estimators=200; total time=   0.3s\n",
      "[CV] END ..max_features=12, max_samples=80, n_estimators=200; total time=   0.3s\n",
      "[CV] END ..max_features=12, max_samples=80, n_estimators=200; total time=   0.3s\n",
      "[CV] END ..max_features=12, max_samples=80, n_estimators=200; total time=   0.2s\n",
      "[CV] END ..max_features=12, max_samples=120, n_estimators=10; total time=   0.0s\n",
      "[CV] END ..max_features=12, max_samples=120, n_estimators=10; total time=   0.0s\n",
      "[CV] END ..max_features=12, max_samples=120, n_estimators=10; total time=   0.0s\n",
      "[CV] END ..max_features=12, max_samples=120, n_estimators=10; total time=   0.0s\n",
      "[CV] END ..max_features=12, max_samples=120, n_estimators=10; total time=   0.0s\n",
      "[CV] END ..max_features=12, max_samples=120, n_estimators=50; total time=   0.0s\n",
      "[CV] END ..max_features=12, max_samples=120, n_estimators=50; total time=   0.0s\n",
      "[CV] END ..max_features=12, max_samples=120, n_estimators=50; total time=   0.0s\n",
      "[CV] END ..max_features=12, max_samples=120, n_estimators=50; total time=   0.0s\n",
      "[CV] END ..max_features=12, max_samples=120, n_estimators=50; total time=   0.0s\n",
      "[CV] END .max_features=12, max_samples=120, n_estimators=150; total time=   0.1s\n",
      "[CV] END .max_features=12, max_samples=120, n_estimators=150; total time=   0.1s\n",
      "[CV] END .max_features=12, max_samples=120, n_estimators=150; total time=   0.2s\n",
      "[CV] END .max_features=12, max_samples=120, n_estimators=150; total time=   0.1s\n",
      "[CV] END .max_features=12, max_samples=120, n_estimators=150; total time=   0.1s\n",
      "[CV] END .max_features=12, max_samples=120, n_estimators=200; total time=   0.3s\n",
      "[CV] END .max_features=12, max_samples=120, n_estimators=200; total time=   0.2s\n",
      "[CV] END .max_features=12, max_samples=120, n_estimators=200; total time=   0.2s\n",
      "[CV] END .max_features=12, max_samples=120, n_estimators=200; total time=   0.2s\n",
      "[CV] END .max_features=12, max_samples=120, n_estimators=200; total time=   0.2s\n",
      "[CV] END ..max_features=12, max_samples=160, n_estimators=10; total time=   0.0s\n",
      "[CV] END ..max_features=12, max_samples=160, n_estimators=10; total time=   0.0s\n",
      "[CV] END ..max_features=12, max_samples=160, n_estimators=10; total time=   0.0s\n",
      "[CV] END ..max_features=12, max_samples=160, n_estimators=10; total time=   0.0s\n",
      "[CV] END ..max_features=12, max_samples=160, n_estimators=10; total time=   0.0s\n",
      "[CV] END ..max_features=12, max_samples=160, n_estimators=50; total time=   0.0s\n",
      "[CV] END ..max_features=12, max_samples=160, n_estimators=50; total time=   0.0s\n",
      "[CV] END ..max_features=12, max_samples=160, n_estimators=50; total time=   0.0s\n",
      "[CV] END ..max_features=12, max_samples=160, n_estimators=50; total time=   0.0s\n",
      "[CV] END ..max_features=12, max_samples=160, n_estimators=50; total time=   0.0s\n",
      "[CV] END .max_features=12, max_samples=160, n_estimators=150; total time=   0.2s\n",
      "[CV] END .max_features=12, max_samples=160, n_estimators=150; total time=   0.1s\n",
      "[CV] END .max_features=12, max_samples=160, n_estimators=150; total time=   0.2s\n",
      "[CV] END .max_features=12, max_samples=160, n_estimators=150; total time=   0.2s\n",
      "[CV] END .max_features=12, max_samples=160, n_estimators=150; total time=   0.2s\n",
      "[CV] END .max_features=12, max_samples=160, n_estimators=200; total time=   0.2s\n",
      "[CV] END .max_features=12, max_samples=160, n_estimators=200; total time=   0.3s\n",
      "[CV] END .max_features=12, max_samples=160, n_estimators=200; total time=   0.2s\n",
      "[CV] END .max_features=12, max_samples=160, n_estimators=200; total time=   0.2s\n",
      "[CV] END .max_features=12, max_samples=160, n_estimators=200; total time=   0.3s\n",
      "[CV] END ..max_features=12, max_samples=200, n_estimators=10; total time=   0.0s\n",
      "[CV] END ..max_features=12, max_samples=200, n_estimators=10; total time=   0.0s\n",
      "[CV] END ..max_features=12, max_samples=200, n_estimators=10; total time=   0.0s\n",
      "[CV] END ..max_features=12, max_samples=200, n_estimators=10; total time=   0.0s\n",
      "[CV] END ..max_features=12, max_samples=200, n_estimators=10; total time=   0.0s\n",
      "[CV] END ..max_features=12, max_samples=200, n_estimators=50; total time=   0.0s\n",
      "[CV] END ..max_features=12, max_samples=200, n_estimators=50; total time=   0.0s\n",
      "[CV] END ..max_features=12, max_samples=200, n_estimators=50; total time=   0.0s\n",
      "[CV] END ..max_features=12, max_samples=200, n_estimators=50; total time=   0.0s\n",
      "[CV] END ..max_features=12, max_samples=200, n_estimators=50; total time=   0.0s\n",
      "[CV] END .max_features=12, max_samples=200, n_estimators=150; total time=   0.2s\n",
      "[CV] END .max_features=12, max_samples=200, n_estimators=150; total time=   0.2s\n",
      "[CV] END .max_features=12, max_samples=200, n_estimators=150; total time=   0.1s\n",
      "[CV] END .max_features=12, max_samples=200, n_estimators=150; total time=   0.3s\n",
      "[CV] END .max_features=12, max_samples=200, n_estimators=150; total time=   0.2s\n",
      "[CV] END .max_features=12, max_samples=200, n_estimators=200; total time=   0.3s\n",
      "[CV] END .max_features=12, max_samples=200, n_estimators=200; total time=   0.3s\n",
      "[CV] END .max_features=12, max_samples=200, n_estimators=200; total time=   0.3s\n",
      "[CV] END .max_features=12, max_samples=200, n_estimators=200; total time=   0.3s\n",
      "[CV] END .max_features=12, max_samples=200, n_estimators=200; total time=   0.4s\n",
      "[CV] END ..max_features=12, max_samples=240, n_estimators=10; total time=   0.0s\n",
      "[CV] END ..max_features=12, max_samples=240, n_estimators=10; total time=   0.0s\n",
      "[CV] END ..max_features=12, max_samples=240, n_estimators=10; total time=   0.0s\n",
      "[CV] END ..max_features=12, max_samples=240, n_estimators=10; total time=   0.0s\n",
      "[CV] END ..max_features=12, max_samples=240, n_estimators=10; total time=   0.0s\n",
      "[CV] END ..max_features=12, max_samples=240, n_estimators=50; total time=   0.0s\n",
      "[CV] END ..max_features=12, max_samples=240, n_estimators=50; total time=   0.0s\n",
      "[CV] END ..max_features=12, max_samples=240, n_estimators=50; total time=   0.0s\n",
      "[CV] END ..max_features=12, max_samples=240, n_estimators=50; total time=   0.0s\n",
      "[CV] END ..max_features=12, max_samples=240, n_estimators=50; total time=   0.0s\n",
      "[CV] END .max_features=12, max_samples=240, n_estimators=150; total time=   0.0s\n",
      "[CV] END .max_features=12, max_samples=240, n_estimators=150; total time=   0.0s\n",
      "[CV] END .max_features=12, max_samples=240, n_estimators=150; total time=   0.0s\n",
      "[CV] END .max_features=12, max_samples=240, n_estimators=150; total time=   0.0s\n",
      "[CV] END .max_features=12, max_samples=240, n_estimators=150; total time=   0.0s\n",
      "[CV] END .max_features=12, max_samples=240, n_estimators=200; total time=   0.0s\n",
      "[CV] END .max_features=12, max_samples=240, n_estimators=200; total time=   0.0s\n",
      "[CV] END .max_features=12, max_samples=240, n_estimators=200; total time=   0.0s\n",
      "[CV] END .max_features=12, max_samples=240, n_estimators=200; total time=   0.0s\n",
      "[CV] END .max_features=12, max_samples=240, n_estimators=200; total time=   0.0s\n",
      "[CV] END ..max_features=12, max_samples=280, n_estimators=10; total time=   0.0s\n",
      "[CV] END ..max_features=12, max_samples=280, n_estimators=10; total time=   0.0s\n",
      "[CV] END ..max_features=12, max_samples=280, n_estimators=10; total time=   0.0s\n",
      "[CV] END ..max_features=12, max_samples=280, n_estimators=10; total time=   0.0s\n",
      "[CV] END ..max_features=12, max_samples=280, n_estimators=10; total time=   0.0s\n",
      "[CV] END ..max_features=12, max_samples=280, n_estimators=50; total time=   0.0s\n",
      "[CV] END ..max_features=12, max_samples=280, n_estimators=50; total time=   0.0s\n",
      "[CV] END ..max_features=12, max_samples=280, n_estimators=50; total time=   0.0s\n",
      "[CV] END ..max_features=12, max_samples=280, n_estimators=50; total time=   0.0s\n",
      "[CV] END ..max_features=12, max_samples=280, n_estimators=50; total time=   0.0s\n",
      "[CV] END .max_features=12, max_samples=280, n_estimators=150; total time=   0.0s\n",
      "[CV] END .max_features=12, max_samples=280, n_estimators=150; total time=   0.0s\n",
      "[CV] END .max_features=12, max_samples=280, n_estimators=150; total time=   0.0s\n",
      "[CV] END .max_features=12, max_samples=280, n_estimators=150; total time=   0.0s\n",
      "[CV] END .max_features=12, max_samples=280, n_estimators=150; total time=   0.0s\n",
      "[CV] END .max_features=12, max_samples=280, n_estimators=200; total time=   0.0s\n",
      "[CV] END .max_features=12, max_samples=280, n_estimators=200; total time=   0.0s\n",
      "[CV] END .max_features=12, max_samples=280, n_estimators=200; total time=   0.0s\n",
      "[CV] END .max_features=12, max_samples=280, n_estimators=200; total time=   0.0s\n",
      "[CV] END .max_features=12, max_samples=280, n_estimators=200; total time=   0.0s\n"
     ]
    },
    {
     "data": {
      "text/plain": [
       "GridSearchCV(cv=5, estimator=RandomForestClassifier(),\n",
       "             param_grid={'max_features': [2, 4, 8, 12],\n",
       "                         'max_samples': [80, 120, 160, 200, 240, 280],\n",
       "                         'n_estimators': [10, 50, 150, 200]},\n",
       "             verbose=2)"
      ]
     },
     "execution_count": 104,
     "metadata": {},
     "output_type": "execute_result"
    }
   ],
   "source": [
    "gridCV.fit(train_X,train_y)"
   ]
  },
  {
   "cell_type": "code",
   "execution_count": 105,
   "id": "25a2c9b8",
   "metadata": {
    "scrolled": true
   },
   "outputs": [
    {
     "data": {
      "text/plain": [
       "0.8399879007864488"
      ]
     },
     "execution_count": 105,
     "metadata": {},
     "output_type": "execute_result"
    }
   ],
   "source": [
    "gridCV.best_score_"
   ]
  },
  {
   "cell_type": "code",
   "execution_count": 106,
   "id": "1b89808f",
   "metadata": {},
   "outputs": [
    {
     "data": {
      "text/plain": [
       "{'max_features': 4, 'max_samples': 80, 'n_estimators': 150}"
      ]
     },
     "execution_count": 106,
     "metadata": {},
     "output_type": "execute_result"
    }
   ],
   "source": [
    "gridCV.best_params_"
   ]
  },
  {
   "cell_type": "code",
   "execution_count": 107,
   "id": "dcd5364d",
   "metadata": {},
   "outputs": [],
   "source": [
    "best_rf = gridCV.best_estimator_"
   ]
  },
  {
   "cell_type": "code",
   "execution_count": 108,
   "id": "0caea57d",
   "metadata": {},
   "outputs": [
    {
     "name": "stdout",
     "output_type": "stream",
     "text": [
      "Training Accuracy: 0.9407665505226481\n",
      "Testung Accuracy: 1.0\n",
      "**************************************************\n",
      "Train Confusion Matrix: \n",
      "[[120  12]\n",
      " [  5 150]]\n",
      "Test Confusion Matrix: \n",
      "[[ 6  0]\n",
      " [ 0 10]]\n",
      "**************************************************\n",
      "Train Classification Report \n",
      "              precision    recall  f1-score   support\n",
      "\n",
      "           0       0.96      0.91      0.93       132\n",
      "           1       0.93      0.97      0.95       155\n",
      "\n",
      "    accuracy                           0.94       287\n",
      "   macro avg       0.94      0.94      0.94       287\n",
      "weighted avg       0.94      0.94      0.94       287\n",
      "\n",
      "Test Classification Report: \n",
      "              precision    recall  f1-score   support\n",
      "\n",
      "           0       1.00      1.00      1.00         6\n",
      "           1       1.00      1.00      1.00        10\n",
      "\n",
      "    accuracy                           1.00        16\n",
      "   macro avg       1.00      1.00      1.00        16\n",
      "weighted avg       1.00      1.00      1.00        16\n",
      "\n"
     ]
    }
   ],
   "source": [
    "check_model(best_rf, train_X, test_X, train_y, test_y, fit=False)"
   ]
  },
  {
   "cell_type": "code",
   "execution_count": null,
   "id": "5344bf5d",
   "metadata": {},
   "outputs": [],
   "source": []
  }
 ],
 "metadata": {
  "kernelspec": {
   "display_name": "Python 3",
   "language": "python",
   "name": "python3"
  },
  "language_info": {
   "codemirror_mode": {
    "name": "ipython",
    "version": 3
   },
   "file_extension": ".py",
   "mimetype": "text/x-python",
   "name": "python",
   "nbconvert_exporter": "python",
   "pygments_lexer": "ipython3",
   "version": "3.8.8"
  }
 },
 "nbformat": 4,
 "nbformat_minor": 5
}
